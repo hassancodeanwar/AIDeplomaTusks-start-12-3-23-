{
 "cells": [
  {
   "cell_type": "code",
   "execution_count": null,
   "metadata": {},
   "outputs": [],
   "source": [
    "from selenium import webdriver\n",
    "from selenium.webdriver.edge.service import Service as EdgeService\n",
    "from webdriver_manager.microsoft import EdgeChromiumDriverManager\n",
    "from selenium.webdriver.common.by import By\n",
    "from selenium.webdriver.support.ui import WebDriverWait\n",
    "from selenium.webdriver.support import expected_conditions as EC\n",
    "from selenium.common.exceptions import TimeoutException\n",
    "\n",
    "\n",
    "# UwerName = input(\"Enter Your User Name: \")\n",
    "# Password = input(\"Enter Your User Password: \")\n",
    "\n",
    "\n",
    "edge_service = EdgeService(executable_path=EdgeChromiumDriverManager().install())\n",
    "\n",
    "browser = webdriver.Edge(service=edge_service)\n",
    "browser.get(\"https://github.com/login\")\n",
    "\n",
    "try:\n",
    "    username = WebDriverWait(browser, 10).until(EC.presence_of_element_located((By.NAME, \"login\")))\n",
    "    username.send_keys(\"*********\")\n",
    "\n",
    "    password = WebDriverWait(browser, 10).until(EC.presence_of_element_located((By.NAME, \"password\")))\n",
    "    password.send_keys(\"*********\")\n",
    "\n",
    "\n",
    "    login_button = WebDriverWait(browser, 10).until(EC.element_to_be_clickable((By.CLASS_NAME, \"btn.btn-primary.btn-block.js-sign-in-button\")))\n",
    "    login_button.click()\n",
    "\n",
    "\n",
    "    explore_button = WebDriverWait(browser, 10).until(EC.element_to_be_clickable((By.XPATH, \"//a[@href='/explore']\")))\n",
    "    explore_button.click()\n",
    "\n",
    "\n",
    "except TimeoutException:\n",
    "    print(\"Timed out waiting for element to be clickable\")"
   ]
  }
 ],
 "metadata": {
  "language_info": {
   "name": "python"
  },
  "orig_nbformat": 4
 },
 "nbformat": 4,
 "nbformat_minor": 2
}
